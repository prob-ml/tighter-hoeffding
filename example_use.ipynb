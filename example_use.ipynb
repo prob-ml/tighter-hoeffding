{
 "cells": [
  {
   "cell_type": "code",
   "execution_count": 4,
   "id": "b59db6bc-a12d-4c63-8cf2-e74279e99736",
   "metadata": {},
   "outputs": [],
   "source": [
    "%load_ext autoreload\n",
    "%autoreload 2\n",
    "import numpy as np\n",
    "import scipy as sp\n",
    "import matplotlib.pyplot as plt\n",
    "import tighterhoeffding\n",
    "rng=np.random.default_rng(0)"
   ]
  },
  {
   "cell_type": "markdown",
   "id": "2796e3e0-4f81-40e2-aeb1-dc0fce324256",
   "metadata": {},
   "source": [
    "Outline of this document as follows\n",
    "\n",
    "* We first present an example of using Hoeffding's first theorem\n",
    "* We first present an example of using Hoeffding's second theorem\n",
    "* We then show a case where either theorem could be applied (and the first is rather tighter!)\n",
    "* We then show our approach, which always gives the tightest possible Chernoff-Cramer bound"
   ]
  },
  {
   "cell_type": "markdown",
   "id": "f58def5c-6429-4b7f-b9df-ac77d70d79bd",
   "metadata": {},
   "source": [
    "# Hoeffding bound, theorem 1\n",
    "\n",
    "From \n",
    "\n",
    "    Hoeffding, Wassily. \"Probability inequalities for sums of bounded random variables.\" The collected works of Wassily Hoeffding (1994): 409-426.\n",
    "\n",
    "Setup is as follows.\n",
    "$$X_1,X_2,\\ldots,X_n\\ \\mathrm{drawn\\ independently\\ (but\\ not\\ necessarily\\ iid)}$$\n",
    "$$\\mathbb{P}(X_i \\in [0,a])=1$$\n",
    "$$S=\\sum_{i=1}^n X_i$$\n",
    "$$\\mathbb{E}[S]=\\mu$$\n",
    "\n",
    "Given knowledge of $a,\\mu$, we seek an upper bound for $\\log \\mathbb{P}_p(S\\geq s)$.  Hoeffding gives us a way to compute this upper bound.  It is the tightest bound that can be obtained using the Chernoff-Cramer method.\n"
   ]
  },
  {
   "cell_type": "code",
   "execution_count": 15,
   "id": "0466be2c-443f-4f57-8914-9209a0b9a7ac",
   "metadata": {},
   "outputs": [
    {
     "name": "stdout",
     "output_type": "stream",
     "text": [
      "-6.415247528480136\n"
     ]
    }
   ],
   "source": [
    "n=5000\n",
    "a=1\n",
    "mu=4000\n",
    "s=4100\n",
    "\n",
    "print(tighterhoeffding.hoeffding_thm1(s,n,mu,a)) "
   ]
  },
  {
   "cell_type": "markdown",
   "id": "578332d4-223f-4407-b440-f3ea23dac98d",
   "metadata": {},
   "source": [
    "This bound is tricky to improve upon.  It's pretty good."
   ]
  },
  {
   "cell_type": "markdown",
   "id": "ab717deb-d212-46ba-be1c-bf10d09f1193",
   "metadata": {},
   "source": [
    "# Hoeffding bound, theorem 2"
   ]
  },
  {
   "cell_type": "markdown",
   "id": "70989669-6f5d-4b72-af4f-d52acc862f49",
   "metadata": {},
   "source": [
    "Also from \n",
    "\n",
    "    Hoeffding, Wassily. \"Probability inequalities for sums of bounded random variables.\" The collected works of Wassily Hoeffding (1994): 409-426.\n",
    "\n",
    "Setup is as follows.\n",
    "$$X_1,X_2,\\ldots,X_n\\ \\mathrm{drawn\\ independently\\ (but\\ not\\ necessarily\\ iid)}$$\n",
    "$$\\mathbb{P}(X_i \\in [0,a_i])=1$$\n",
    "$$S=\\sum_{i=1}^n X_i$$\n",
    "$$\\mathbb{E}[S]=\\mu$$\n",
    "\n",
    "Given knowledge of $\\boldsymbol{a},\\mu$, we seek an upper bound for $\\log \\mathbb{P}_p(S\\geq s)$.  Hoeffding gives us a way to compute this upper bound.  It is the tightest bound that can be obtained using the Chernoff-Cramer method.\n",
    "\n",
    "Only difference from the section above is that we have a different $a_i$ for each variable $X_i$.\n"
   ]
  },
  {
   "cell_type": "code",
   "execution_count": 22,
   "id": "42c638fb-082e-47e5-aa44-65c528f4fbd5",
   "metadata": {},
   "outputs": [
    {
     "name": "stdout",
     "output_type": "stream",
     "text": [
      "-12.552178159604379\n"
     ]
    }
   ],
   "source": [
    "n=5000\n",
    "many_bounds=rng.dirichlet(np.ones(n))\n",
    "mu=.8*np.sum(many_bounds)\n",
    "s=.85*np.sum(many_bounds)\n",
    "\n",
    "print(tighterhoeffding.hoeffding_thm2(s,mu,many_bounds))"
   ]
  },
  {
   "cell_type": "markdown",
   "id": "0e377c94-ed48-4205-9d07-d11e86cad5b0",
   "metadata": {},
   "source": [
    "# Comparison of the bounds"
   ]
  },
  {
   "cell_type": "code",
   "execution_count": 24,
   "id": "633996f7-1a27-42c0-bf99-1a48f113bf04",
   "metadata": {},
   "outputs": [
    {
     "name": "stdout",
     "output_type": "stream",
     "text": [
      "-6.415247528480136\n",
      "-4.0\n"
     ]
    }
   ],
   "source": [
    "n=5000\n",
    "a=1\n",
    "many_bounds=np.ones(n)*a\n",
    "mu=4000\n",
    "s=4100\n",
    "\n",
    "print(tighterhoeffding.hoeffding_thm1(s,n,mu,a))\n",
    "print(tighterhoeffding.hoeffding_thm2(s,mu,many_bounds))"
   ]
  },
  {
   "cell_type": "markdown",
   "id": "886516fd-1a12-4241-9dd3-8b3b90b663e5",
   "metadata": {},
   "source": [
    "Theorem 1 bound is about ten times smaller in this case!  (log difference of about 2.5)"
   ]
  },
  {
   "cell_type": "markdown",
   "id": "566bff14-3d14-43a1-9d1e-a3b7198c3dc6",
   "metadata": {},
   "source": [
    "# New bound"
   ]
  },
  {
   "cell_type": "code",
   "execution_count": 27,
   "id": "381737e1-d6b7-4631-8000-3f928d0c8943",
   "metadata": {},
   "outputs": [
    {
     "name": "stdout",
     "output_type": "stream",
     "text": [
      "-6.415247528480136\n",
      "-6.415246122655162\n"
     ]
    }
   ],
   "source": [
    "n=5000\n",
    "a=1\n",
    "many_bounds=np.ones(n)*a\n",
    "mu=4000\n",
    "s=4100\n",
    "\n",
    "print(tighterhoeffding.hoeffding_thm1(s,n,mu,a))\n",
    "print(tighterhoeffding.sharp_chernoff(s,mu,many_bounds))"
   ]
  },
  {
   "cell_type": "markdown",
   "id": "6e474f37-5f5b-4b68-9591-97d25939e492",
   "metadata": {},
   "source": [
    "New bound can handle different values of $a_i$ for each $X_i$, but is still tight when $a_1=a_2=\\ldots a_n$."
   ]
  },
  {
   "cell_type": "markdown",
   "id": "79a43762-3b2b-4525-a032-bbdf8b24f9ed",
   "metadata": {},
   "source": [
    "# New bound vs Hoeffding Theorem 2\n",
    "\n",
    "In exactly the same setup as Hoeffding's Theorem 2 (i.e. with different values of $a_i$ for each $X_i$) we show that the new bound gives much tighter answers."
   ]
  },
  {
   "cell_type": "code",
   "execution_count": 28,
   "id": "57f0fb9d-7a75-44b1-a0b7-0356b511d9da",
   "metadata": {},
   "outputs": [
    {
     "name": "stdout",
     "output_type": "stream",
     "text": [
      "-12.514224337112992\n",
      "-17.10469339534052\n"
     ]
    }
   ],
   "source": [
    "n=5000\n",
    "many_bounds=rng.dirichlet(np.ones(n))\n",
    "mu=.8*np.sum(many_bounds)\n",
    "s=.85*np.sum(many_bounds)\n",
    "\n",
    "print(tighterhoeffding.hoeffding_thm2(s,mu,many_bounds))\n",
    "print(tighterhoeffding.sharp_chernoff(s,mu,many_bounds))"
   ]
  },
  {
   "cell_type": "markdown",
   "id": "bf4bdb60-57a6-4b95-b62b-81f70fb0da23",
   "metadata": {},
   "source": [
    "New bound is about 100 times smaller in this case."
   ]
  }
 ],
 "metadata": {
  "kernelspec": {
   "display_name": "Python 3 (ipykernel)",
   "language": "python",
   "name": "python3"
  },
  "language_info": {
   "codemirror_mode": {
    "name": "ipython",
    "version": 3
   },
   "file_extension": ".py",
   "mimetype": "text/x-python",
   "name": "python",
   "nbconvert_exporter": "python",
   "pygments_lexer": "ipython3",
   "version": "3.11.5"
  }
 },
 "nbformat": 4,
 "nbformat_minor": 5
}
